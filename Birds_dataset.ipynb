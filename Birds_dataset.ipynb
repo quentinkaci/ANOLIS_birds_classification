{
  "cells": [
    {
      "cell_type": "code",
      "execution_count": 42,
      "metadata": {
        "id": "dJsSMQ8014Py"
      },
      "outputs": [],
      "source": [
        "import pandas as pd\n",
        "import requests\n",
        "import bs4 as bs\n",
        "import os\n",
        "from urllib.parse import urljoin\n",
        "from tqdm import tqdm\n",
        "import multiprocess as mp\n",
        "import glob\n",
        "import numpy as np\n",
        "import matplotlib.pyplot as plt\n",
        "import shutil\n",
        "import splitfolders\n",
        "\n",
        "MAX_WORKERS = 1"
      ]
    },
    {
      "cell_type": "markdown",
      "metadata": {
        "id": "FyZCFsxdD9Fu"
      },
      "source": [
        "# Retrieve european bird species dataframe"
      ]
    },
    {
      "cell_type": "code",
      "execution_count": 2,
      "metadata": {
        "id": "WpvEPyZL98GU"
      },
      "outputs": [],
      "source": [
        "url = 'https://www.oiseaux.net/oiseaux/france.html'\n",
        "page = requests.get(url)\n",
        "break_code = 'XXXXXXXXXX'\n",
        "page_text = page.text.replace('<br />', break_code)\n",
        "\n",
        "soup = bs.BeautifulSoup(page_text, 'lxml')\n",
        "parsed_table = soup.find_all('table')[0]\n",
        "\n",
        "data = []\n",
        "for row in parsed_table.find_all('tr'):\n",
        "    row_data = []\n",
        "    id = None\n",
        "    for td in row.find_all('td'):\n",
        "        if id is None: # Called once: get only id of french tag\n",
        "            id = ''\n",
        "            if td.find('a'):\n",
        "                id = td.a['href'].split('/')[-1].replace('.html', '')\n",
        "        # Retain only main name by skipping row after break code\n",
        "        row_data.append(''.join(td.stripped_strings).split('\\n')[0])\n",
        "    row_data.append(id)\n",
        "    data.append(row_data)\n",
        "\n",
        "fr_species_df = pd.DataFrame(data[1:], columns=['french', 'latin', 'english', 'id'])"
      ]
    },
    {
      "cell_type": "code",
      "execution_count": 3,
      "metadata": {
        "colab": {
          "base_uri": "https://localhost:8080/",
          "height": 419
        },
        "id": "ioyHlG572cov",
        "outputId": "f15a5ec4-d3c8-49a5-a91a-5e9f51c9db60"
      },
      "outputs": [
        {
          "data": {
            "text/html": [
              "<div>\n",
              "<style scoped>\n",
              "    .dataframe tbody tr th:only-of-type {\n",
              "        vertical-align: middle;\n",
              "    }\n",
              "\n",
              "    .dataframe tbody tr th {\n",
              "        vertical-align: top;\n",
              "    }\n",
              "\n",
              "    .dataframe thead th {\n",
              "        text-align: right;\n",
              "    }\n",
              "</style>\n",
              "<table border=\"1\" class=\"dataframe\">\n",
              "  <thead>\n",
              "    <tr style=\"text-align: right;\">\n",
              "      <th></th>\n",
              "      <th>french</th>\n",
              "      <th>latin</th>\n",
              "      <th>english</th>\n",
              "      <th>id</th>\n",
              "    </tr>\n",
              "  </thead>\n",
              "  <tbody>\n",
              "    <tr>\n",
              "      <th>0</th>\n",
              "      <td>Accenteur à gorge noire</td>\n",
              "      <td>Prunella atrogularis</td>\n",
              "      <td>Black-throated Accentor</td>\n",
              "      <td>accenteur.a.gorge.noire</td>\n",
              "    </tr>\n",
              "    <tr>\n",
              "      <th>1</th>\n",
              "      <td>Accenteur alpin</td>\n",
              "      <td>Prunella collaris</td>\n",
              "      <td>Alpine Accentor</td>\n",
              "      <td>accenteur.alpin</td>\n",
              "    </tr>\n",
              "    <tr>\n",
              "      <th>2</th>\n",
              "      <td>Accenteur mouchet</td>\n",
              "      <td>Prunella modularis</td>\n",
              "      <td>Dunnock</td>\n",
              "      <td>accenteur.mouchet</td>\n",
              "    </tr>\n",
              "    <tr>\n",
              "      <th>3</th>\n",
              "      <td>Agrobate roux</td>\n",
              "      <td>Cercotrichas galactotes</td>\n",
              "      <td>Rufous-tailed Scrub Robin</td>\n",
              "      <td>agrobate.roux</td>\n",
              "    </tr>\n",
              "    <tr>\n",
              "      <th>4</th>\n",
              "      <td>Aigle botté</td>\n",
              "      <td>Hieraaetus pennatus</td>\n",
              "      <td>Booted Eagle</td>\n",
              "      <td>aigle.botte</td>\n",
              "    </tr>\n",
              "    <tr>\n",
              "      <th>...</th>\n",
              "      <td>...</td>\n",
              "      <td>...</td>\n",
              "      <td>...</td>\n",
              "      <td>...</td>\n",
              "    </tr>\n",
              "    <tr>\n",
              "      <th>623</th>\n",
              "      <td>Vautour oricou</td>\n",
              "      <td>Torgos tracheliotos</td>\n",
              "      <td>Lappet-faced Vulture</td>\n",
              "      <td>vautour.oricou</td>\n",
              "    </tr>\n",
              "    <tr>\n",
              "      <th>624</th>\n",
              "      <td>Venturon corse</td>\n",
              "      <td>Carduelis corsicana</td>\n",
              "      <td>Corsican Finch</td>\n",
              "      <td>venturon.corse</td>\n",
              "    </tr>\n",
              "    <tr>\n",
              "      <th>625</th>\n",
              "      <td>Venturon montagnard</td>\n",
              "      <td>Carduelis citrinella</td>\n",
              "      <td>Citril Finch</td>\n",
              "      <td>venturon.montagnard</td>\n",
              "    </tr>\n",
              "    <tr>\n",
              "      <th>626</th>\n",
              "      <td>Verdier d'Europe</td>\n",
              "      <td>Chloris chloris</td>\n",
              "      <td>European Greenfinch</td>\n",
              "      <td>verdier.d.europe</td>\n",
              "    </tr>\n",
              "    <tr>\n",
              "      <th>627</th>\n",
              "      <td>Viréo à oeil rouge</td>\n",
              "      <td>Vireo olivaceus</td>\n",
              "      <td>Red-eyed Vireo</td>\n",
              "      <td>vireo.a.oeil.rouge</td>\n",
              "    </tr>\n",
              "  </tbody>\n",
              "</table>\n",
              "<p>628 rows × 4 columns</p>\n",
              "</div>"
            ],
            "text/plain": [
              "                      french                    latin  \\\n",
              "0    Accenteur à gorge noire     Prunella atrogularis   \n",
              "1            Accenteur alpin        Prunella collaris   \n",
              "2          Accenteur mouchet       Prunella modularis   \n",
              "3              Agrobate roux  Cercotrichas galactotes   \n",
              "4                Aigle botté      Hieraaetus pennatus   \n",
              "..                       ...                      ...   \n",
              "623           Vautour oricou      Torgos tracheliotos   \n",
              "624           Venturon corse      Carduelis corsicana   \n",
              "625      Venturon montagnard     Carduelis citrinella   \n",
              "626         Verdier d'Europe          Chloris chloris   \n",
              "627       Viréo à oeil rouge          Vireo olivaceus   \n",
              "\n",
              "                       english                       id  \n",
              "0      Black-throated Accentor  accenteur.a.gorge.noire  \n",
              "1              Alpine Accentor          accenteur.alpin  \n",
              "2                      Dunnock        accenteur.mouchet  \n",
              "3    Rufous-tailed Scrub Robin            agrobate.roux  \n",
              "4                 Booted Eagle              aigle.botte  \n",
              "..                         ...                      ...  \n",
              "623       Lappet-faced Vulture           vautour.oricou  \n",
              "624             Corsican Finch           venturon.corse  \n",
              "625               Citril Finch      venturon.montagnard  \n",
              "626        European Greenfinch         verdier.d.europe  \n",
              "627             Red-eyed Vireo       vireo.a.oeil.rouge  \n",
              "\n",
              "[628 rows x 4 columns]"
            ]
          },
          "execution_count": 3,
          "metadata": {},
          "output_type": "execute_result"
        }
      ],
      "source": [
        "fr_species_df"
      ]
    },
    {
      "cell_type": "markdown",
      "metadata": {
        "id": "uysyr3T6EH_3"
      },
      "source": [
        "# Scrap images of each european bird species"
      ]
    },
    {
      "cell_type": "code",
      "execution_count": 4,
      "metadata": {
        "id": "0lSdG1vnFSDi"
      },
      "outputs": [],
      "source": [
        "dataset_file_root = 'fr_birds'\n",
        "os.makedirs(dataset_file_root, exist_ok=True)"
      ]
    },
    {
      "cell_type": "code",
      "execution_count": 5,
      "metadata": {
        "id": "FpC5gjTDCAzh"
      },
      "outputs": [],
      "source": [
        "photos_url_template = 'https://www.oiseaux.net/oiseaux/photos/%s.html'"
      ]
    },
    {
      "cell_type": "code",
      "execution_count": 6,
      "metadata": {
        "id": "hAn0IM8MGsGa"
      },
      "outputs": [],
      "source": [
        "def download_images(url, dest, count):\n",
        "    r = requests.get(url)\n",
        "    soup = bs.BeautifulSoup(r.text, 'html.parser')\n",
        "    figures = soup.find_all('figure')\n",
        "    for figure in figures:\n",
        "        href = figure.a['href']\n",
        "        photo_page_url = urljoin(url, href)\n",
        "\n",
        "        r = requests.get(photo_page_url)\n",
        "        soup = bs.BeautifulSoup(r.text, 'html.parser')\n",
        "        image_src = soup.figure.img['src']\n",
        "        image_url = urljoin(photo_page_url, f'{image_src}')\n",
        "\n",
        "        r = requests.get(image_url).content\n",
        "        with open(f\"{dest}/{count}.jpg\", \"wb+\") as f:\n",
        "            f.write(r)\n",
        "            count += 1\n",
        "    return count"
      ]
    },
    {
      "cell_type": "code",
      "execution_count": 7,
      "metadata": {
        "id": "juRI4dkTR8V0"
      },
      "outputs": [],
      "source": [
        "def scrap_species_images(species_entry):\n",
        "    species_fr_name = species_entry[0] # french column\n",
        "    species_folder = f'{dataset_file_root}/{species_fr_name}'\n",
        "    os.makedirs(species_folder, exist_ok=True)\n",
        "\n",
        "    species_photos_url = photos_url_template % species_entry[-1] # id column\n",
        "    try:\n",
        "        count = 0\n",
        "        for i in range(1, 100):\n",
        "            if i != 1:\n",
        "                replace_string = '.html'\n",
        "                if i >= 3:\n",
        "                    replace_string = f'.{i - 1}.html'\n",
        "                species_photos_url = species_photos_url.replace(replace_string, f'.{i}.html')\n",
        "            response = requests.get(species_photos_url)\n",
        "            if response.url == 'https://www.oiseaux.net/erreur/index.html':\n",
        "                break\n",
        "            count = download_images(species_photos_url, species_folder, count)\n",
        "    except:\n",
        "        print(f'An exception has occured for species: {species_entry}')"
      ]
    },
    {
      "cell_type": "code",
      "execution_count": 8,
      "metadata": {
        "colab": {
          "base_uri": "https://localhost:8080/",
          "height": 66,
          "referenced_widgets": [
            "d6eaaefb43f64a7d98dc77321289336f",
            "a8ae1ad616f8461bbb61886cbed7dbfa",
            "0e023f089af74700824bbed5900cc9ab",
            "14bd725dfd9f4d349b8978bdf7ae124c",
            "0952bf272b51428689692af8fbc2e9dd",
            "9cb458fb831c420bba640aeaf8ecb922",
            "81379883a9dd42888d67c88fed3dad60",
            "f26a50b82a724815998c69ad01ba6ba8",
            "9dcdc503cbaa4e279ca8b7d8e4c28c9e",
            "30398e619c464eb1acc80f712b995a8d",
            "460ceb1c8cf84fecb9357daba2631c21"
          ]
        },
        "id": "qUwfW_LLRX7O",
        "outputId": "398d9ac0-45c2-4cce-dd31-bebdbc5b3d83"
      },
      "outputs": [
        {
          "name": "stderr",
          "output_type": "stream",
          "text": [
            " 27%|██▋       | 172/628 [4:06:12<11:00:17, 86.88s/it] "
          ]
        },
        {
          "name": "stdout",
          "output_type": "stream",
          "text": [
            "An exception has occured for species: ['Damier du Cap' 'Daption capense' 'Cape Petrel' 'damier.du.cap']\n"
          ]
        },
        {
          "name": "stderr",
          "output_type": "stream",
          "text": [
            "100%|██████████| 628/628 [14:11:53<00:00, 81.39s/it]   \n"
          ]
        }
      ],
      "source": [
        "# with mp.Pool(processes=MAX_WORKERS) as pool:\n",
        "for species in tqdm(fr_species_df.to_numpy(), total=len(fr_species_df.to_numpy())):\n",
        "    scrap_species_images(species)\n",
        "        # for result in results: pass"
      ]
    },
    {
      "cell_type": "code",
      "execution_count": 41,
      "metadata": {
        "id": "3P2OacLFE5Yo"
      },
      "outputs": [],
      "source": [
        "!tar cf fr_birds.tar fr_birds/"
      ]
    },
    {
      "cell_type": "markdown",
      "metadata": {},
      "source": [
        "# Clean and prepare dataset"
      ]
    },
    {
      "cell_type": "code",
      "execution_count": 40,
      "metadata": {},
      "outputs": [
        {
          "data": {
            "text/plain": [
              "<matplotlib.collections.PathCollection at 0x16a73d6d0>"
            ]
          },
          "execution_count": 40,
          "metadata": {},
          "output_type": "execute_result"
        },
        {
          "data": {
            "image/png": "[encoded data removed]",
            "text/plain": [
              "<Figure size 640x480 with 1 Axes>"
            ]
          },
          "metadata": {},
          "output_type": "display_data"
        }
      ],
      "source": [
        "species_folders = glob.glob('fr_birds/*')\n",
        "x = np.arange(len(species_folders))\n",
        "y = []\n",
        "\n",
        "for species in species_folders:\n",
        "    nb_images = len(glob.glob(f'{species}/*'))\n",
        "    y.append(nb_images)\n",
        "\n",
        "plt.scatter(x, y)"
      ]
    },
    {
      "cell_type": "code",
      "execution_count": 43,
      "metadata": {},
      "outputs": [
        {
          "name": "stderr",
          "output_type": "stream",
          "text": [
            "Copying files: 117121 files [00:55, 2099.15 files/s]\n"
          ]
        }
      ],
      "source": [
        "splitfolders.ratio(\"fr_birds\", output=\"fr_birds_dataset\",\n",
        "    seed=42, ratio=(.8, .1, .1), group_prefix=None, move=False) # default values"
      ]
    },
    {
      "cell_type": "code",
      "execution_count": 65,
      "metadata": {},
      "outputs": [],
      "source": [
        "def int_approx_equal(a, b):\n",
        "    if a > b:\n",
        "        a, b = b, a\n",
        "    return a >= int(b * 0.85) and a <= int(b * 1.15)"
      ]
    },
    {
      "cell_type": "code",
      "execution_count": 66,
      "metadata": {},
      "outputs": [],
      "source": [
        "for train_species_folder in glob.glob('fr_birds_dataset/train/*'):\n",
        "    species_name = train_species_folder.split('/')[-1]\n",
        "\n",
        "    nb_images = {\n",
        "        key: len(glob.glob(f'fr_birds_dataset/{key}/{species_name}/*')) for key in ['train', 'val', 'test']\n",
        "    }\n",
        "\n",
        "    total = nb_images['train'] + nb_images['val'] + nb_images['test']\n",
        "\n",
        "    assert int_approx_equal(nb_images['train'], int(0.8 * total)) \\\n",
        "        and int_approx_equal(nb_images['val'], int(0.1 * total)) \\\n",
        "        and int_approx_equal(nb_images['test'], int(0.1 * total))"
      ]
    },
    {
      "cell_type": "code",
      "execution_count": 67,
      "metadata": {},
      "outputs": [],
      "source": [
        "!tar cf fr_birds_dataset.tar fr_birds_dataset/"
      ]
    },
    {
      "cell_type": "code",
      "execution_count": null,
      "metadata": {},
      "outputs": [],
      "source": []
    }
  ],
  "metadata": {
    "colab": {
      "provenance": []
    },
    "kernelspec": {
      "display_name": "Python 3.9.6 64-bit",
      "language": "python",
      "name": "python3"
    },
    "language_info": {
      "codemirror_mode": {
        "name": "ipython",
        "version": 3
      },
      "file_extension": ".py",
      "mimetype": "text/x-python",
      "name": "python",
      "nbconvert_exporter": "python",
      "pygments_lexer": "ipython3",
      "version": "3.9.6"
    },
    "vscode": {
      "interpreter": {
        "hash": "31f2aee4e71d21fbe5cf8b01ff0e069b9275f58929596ceb00d14d90e3e16cd6"
      }
    },
    "widgets": {
      "application/vnd.jupyter.widget-state+json": {
        "0952bf272b51428689692af8fbc2e9dd": {
          "model_module": "@jupyter-widgets/base",
          "model_module_version": "1.2.0",
          "model_name": "LayoutModel",
          "state": {
            "_model_module": "@jupyter-widgets/base",
            "_model_module_version": "1.2.0",
            "_model_name": "LayoutModel",
            "_view_count": null,
            "_view_module": "@jupyter-widgets/base",
            "_view_module_version": "1.2.0",
            "_view_name": "LayoutView",
            "align_content": null,
            "align_items": null,
            "align_self": null,
            "border": null,
            "bottom": null,
            "display": null,
            "flex": null,
            "flex_flow": null,
            "grid_area": null,
            "grid_auto_columns": null,
            "grid_auto_flow": null,
            "grid_auto_rows": null,
            "grid_column": null,
            "grid_gap": null,
            "grid_row": null,
            "grid_template_areas": null,
            "grid_template_columns": null,
            "grid_template_rows": null,
            "height": null,
            "justify_content": null,
            "justify_items": null,
            "left": null,
            "margin": null,
            "max_height": null,
            "max_width": null,
            "min_height": null,
            "min_width": null,
            "object_fit": null,
            "object_position": null,
            "order": null,
            "overflow": null,
            "overflow_x": null,
            "overflow_y": null,
            "padding": null,
            "right": null,
            "top": null,
            "visibility": null,
            "width": null
          }
        },
        "0e023f089af74700824bbed5900cc9ab": {
          "model_module": "@jupyter-widgets/controls",
          "model_module_version": "1.5.0",
          "model_name": "FloatProgressModel",
          "state": {
            "_dom_classes": [],
            "_model_module": "@jupyter-widgets/controls",
            "_model_module_version": "1.5.0",
            "_model_name": "FloatProgressModel",
            "_view_count": null,
            "_view_module": "@jupyter-widgets/controls",
            "_view_module_version": "1.5.0",
            "_view_name": "ProgressView",
            "bar_style": "success",
            "description": "",
            "description_tooltip": null,
            "layout": "IPY_MODEL_f26a50b82a724815998c69ad01ba6ba8",
            "max": 628,
            "min": 0,
            "orientation": "horizontal",
            "style": "IPY_MODEL_9dcdc503cbaa4e279ca8b7d8e4c28c9e",
            "value": 628
          }
        },
        "14bd725dfd9f4d349b8978bdf7ae124c": {
          "model_module": "@jupyter-widgets/controls",
          "model_module_version": "1.5.0",
          "model_name": "HTMLModel",
          "state": {
            "_dom_classes": [],
            "_model_module": "@jupyter-widgets/controls",
            "_model_module_version": "1.5.0",
            "_model_name": "HTMLModel",
            "_view_count": null,
            "_view_module": "@jupyter-widgets/controls",
            "_view_module_version": "1.5.0",
            "_view_name": "HTMLView",
            "description": "",
            "description_tooltip": null,
            "layout": "IPY_MODEL_30398e619c464eb1acc80f712b995a8d",
            "placeholder": "​",
            "style": "IPY_MODEL_460ceb1c8cf84fecb9357daba2631c21",
            "value": " 628/628 [4:07:58&lt;00:00, 78.52s/it]"
          }
        },
        "30398e619c464eb1acc80f712b995a8d": {
          "model_module": "@jupyter-widgets/base",
          "model_module_version": "1.2.0",
          "model_name": "LayoutModel",
          "state": {
            "_model_module": "@jupyter-widgets/base",
            "_model_module_version": "1.2.0",
            "_model_name": "LayoutModel",
            "_view_count": null,
            "_view_module": "@jupyter-widgets/base",
            "_view_module_version": "1.2.0",
            "_view_name": "LayoutView",
            "align_content": null,
            "align_items": null,
            "align_self": null,
            "border": null,
            "bottom": null,
            "display": null,
            "flex": null,
            "flex_flow": null,
            "grid_area": null,
            "grid_auto_columns": null,
            "grid_auto_flow": null,
            "grid_auto_rows": null,
            "grid_column": null,
            "grid_gap": null,
            "grid_row": null,
            "grid_template_areas": null,
            "grid_template_columns": null,
            "grid_template_rows": null,
            "height": null,
            "justify_content": null,
            "justify_items": null,
            "left": null,
            "margin": null,
            "max_height": null,
            "max_width": null,
            "min_height": null,
            "min_width": null,
            "object_fit": null,
            "object_position": null,
            "order": null,
            "overflow": null,
            "overflow_x": null,
            "overflow_y": null,
            "padding": null,
            "right": null,
            "top": null,
            "visibility": null,
            "width": null
          }
        },
        "460ceb1c8cf84fecb9357daba2631c21": {
          "model_module": "@jupyter-widgets/controls",
          "model_module_version": "1.5.0",
          "model_name": "DescriptionStyleModel",
          "state": {
            "_model_module": "@jupyter-widgets/controls",
            "_model_module_version": "1.5.0",
            "_model_name": "DescriptionStyleModel",
            "_view_count": null,
            "_view_module": "@jupyter-widgets/base",
            "_view_module_version": "1.2.0",
            "_view_name": "StyleView",
            "description_width": ""
          }
        },
        "81379883a9dd42888d67c88fed3dad60": {
          "model_module": "@jupyter-widgets/controls",
          "model_module_version": "1.5.0",
          "model_name": "DescriptionStyleModel",
          "state": {
            "_model_module": "@jupyter-widgets/controls",
            "_model_module_version": "1.5.0",
            "_model_name": "DescriptionStyleModel",
            "_view_count": null,
            "_view_module": "@jupyter-widgets/base",
            "_view_module_version": "1.2.0",
            "_view_name": "StyleView",
            "description_width": ""
          }
        },
        "9cb458fb831c420bba640aeaf8ecb922": {
          "model_module": "@jupyter-widgets/base",
          "model_module_version": "1.2.0",
          "model_name": "LayoutModel",
          "state": {
            "_model_module": "@jupyter-widgets/base",
            "_model_module_version": "1.2.0",
            "_model_name": "LayoutModel",
            "_view_count": null,
            "_view_module": "@jupyter-widgets/base",
            "_view_module_version": "1.2.0",
            "_view_name": "LayoutView",
            "align_content": null,
            "align_items": null,
            "align_self": null,
            "border": null,
            "bottom": null,
            "display": null,
            "flex": null,
            "flex_flow": null,
            "grid_area": null,
            "grid_auto_columns": null,
            "grid_auto_flow": null,
            "grid_auto_rows": null,
            "grid_column": null,
            "grid_gap": null,
            "grid_row": null,
            "grid_template_areas": null,
            "grid_template_columns": null,
            "grid_template_rows": null,
            "height": null,
            "justify_content": null,
            "justify_items": null,
            "left": null,
            "margin": null,
            "max_height": null,
            "max_width": null,
            "min_height": null,
            "min_width": null,
            "object_fit": null,
            "object_position": null,
            "order": null,
            "overflow": null,
            "overflow_x": null,
            "overflow_y": null,
            "padding": null,
            "right": null,
            "top": null,
            "visibility": null,
            "width": null
          }
        },
        "9dcdc503cbaa4e279ca8b7d8e4c28c9e": {
          "model_module": "@jupyter-widgets/controls",
          "model_module_version": "1.5.0",
          "model_name": "ProgressStyleModel",
          "state": {
            "_model_module": "@jupyter-widgets/controls",
            "_model_module_version": "1.5.0",
            "_model_name": "ProgressStyleModel",
            "_view_count": null,
            "_view_module": "@jupyter-widgets/base",
            "_view_module_version": "1.2.0",
            "_view_name": "StyleView",
            "bar_color": null,
            "description_width": ""
          }
        },
        "a8ae1ad616f8461bbb61886cbed7dbfa": {
          "model_module": "@jupyter-widgets/controls",
          "model_module_version": "1.5.0",
          "model_name": "HTMLModel",
          "state": {
            "_dom_classes": [],
            "_model_module": "@jupyter-widgets/controls",
            "_model_module_version": "1.5.0",
            "_model_name": "HTMLModel",
            "_view_count": null,
            "_view_module": "@jupyter-widgets/controls",
            "_view_module_version": "1.5.0",
            "_view_name": "HTMLView",
            "description": "",
            "description_tooltip": null,
            "layout": "IPY_MODEL_9cb458fb831c420bba640aeaf8ecb922",
            "placeholder": "​",
            "style": "IPY_MODEL_81379883a9dd42888d67c88fed3dad60",
            "value": "100%"
          }
        },
        "d6eaaefb43f64a7d98dc77321289336f": {
          "model_module": "@jupyter-widgets/controls",
          "model_module_version": "1.5.0",
          "model_name": "HBoxModel",
          "state": {
            "_dom_classes": [],
            "_model_module": "@jupyter-widgets/controls",
            "_model_module_version": "1.5.0",
            "_model_name": "HBoxModel",
            "_view_count": null,
            "_view_module": "@jupyter-widgets/controls",
            "_view_module_version": "1.5.0",
            "_view_name": "HBoxView",
            "box_style": "",
            "children": [
              "IPY_MODEL_a8ae1ad616f8461bbb61886cbed7dbfa",
              "IPY_MODEL_0e023f089af74700824bbed5900cc9ab",
              "IPY_MODEL_14bd725dfd9f4d349b8978bdf7ae124c"
            ],
            "layout": "IPY_MODEL_0952bf272b51428689692af8fbc2e9dd"
          }
        },
        "f26a50b82a724815998c69ad01ba6ba8": {
          "model_module": "@jupyter-widgets/base",
          "model_module_version": "1.2.0",
          "model_name": "LayoutModel",
          "state": {
            "_model_module": "@jupyter-widgets/base",
            "_model_module_version": "1.2.0",
            "_model_name": "LayoutModel",
            "_view_count": null,
            "_view_module": "@jupyter-widgets/base",
            "_view_module_version": "1.2.0",
            "_view_name": "LayoutView",
            "align_content": null,
            "align_items": null,
            "align_self": null,
            "border": null,
            "bottom": null,
            "display": null,
            "flex": null,
            "flex_flow": null,
            "grid_area": null,
            "grid_auto_columns": null,
            "grid_auto_flow": null,
            "grid_auto_rows": null,
            "grid_column": null,
            "grid_gap": null,
            "grid_row": null,
            "grid_template_areas": null,
            "grid_template_columns": null,
            "grid_template_rows": null,
            "height": null,
            "justify_content": null,
            "justify_items": null,
            "left": null,
            "margin": null,
            "max_height": null,
            "max_width": null,
            "min_height": null,
            "min_width": null,
            "object_fit": null,
            "object_position": null,
            "order": null,
            "overflow": null,
            "overflow_x": null,
            "overflow_y": null,
            "padding": null,
            "right": null,
            "top": null,
            "visibility": null,
            "width": null
          }
        }
      }
    }
  },
  "nbformat": 4,
  "nbformat_minor": 0
}
